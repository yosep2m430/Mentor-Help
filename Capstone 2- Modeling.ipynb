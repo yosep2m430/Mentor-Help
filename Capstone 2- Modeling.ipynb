{
 "cells": [
  {
   "cell_type": "code",
   "execution_count": 1,
   "id": "628f962b",
   "metadata": {},
   "outputs": [],
   "source": [
    "import pandas as pd\n",
    "import numpy as np\n",
    "import os\n",
    "import pickle\n",
    "import matplotlib.pyplot as plt\n",
    "import seaborn as sns\n",
    "from sklearn.preprocessing import scale\n",
    "from sklearn.model_selection import train_test_split, cross_validate, GridSearchCV, learning_curve\n",
    "from sklearn.preprocessing import StandardScaler, MinMaxScaler\n",
    "from sklearn.dummy import DummyRegressor\n",
    "from sklearn.linear_model import LinearRegression\n",
    "from sklearn.ensemble import RandomForestRegressor, GradientBoostingRegressor, RandomForestClassifier\n",
    "from sklearn.neighbors import KNeighborsClassifier\n",
    "from sklearn.metrics import r2_score, mean_squared_error, mean_absolute_error, accuracy_score\n",
    "from sklearn.pipeline import make_pipeline\n",
    "from sklearn.impute import SimpleImputer\n",
    "from sklearn.feature_selection import mutual_info_regression, SelectKBest, f_regression\n",
    "from bayes_opt import BayesianOptimization\n",
    "import lightgbm as lgb\n",
    "from sklearn.utils import resample\n",
    "import xgboost as xgb\n",
    "from sklearn.preprocessing import LabelEncoder\n",
    "\n",
    "\n",
    "from sklearn.metrics import confusion_matrix\n",
    "\n",
    "random_seed_number=42\n",
    "np.random.seed(random_seed_number)"
   ]
  },
  {
   "cell_type": "code",
   "execution_count": 2,
   "id": "3268495e",
   "metadata": {},
   "outputs": [],
   "source": [
    "df= pd.read_csv('/Users/josephlim/Desktop/Data Science/Capstone Projects/Capstone project- Spotify/Data/Cleaned Data/spotify_data_preprocessed.csv')"
   ]
  },
  {
   "cell_type": "code",
   "execution_count": 3,
   "id": "b73c1d49",
   "metadata": {},
   "outputs": [
    {
     "data": {
      "text/html": [
       "<div>\n",
       "<style scoped>\n",
       "    .dataframe tbody tr th:only-of-type {\n",
       "        vertical-align: middle;\n",
       "    }\n",
       "\n",
       "    .dataframe tbody tr th {\n",
       "        vertical-align: top;\n",
       "    }\n",
       "\n",
       "    .dataframe thead th {\n",
       "        text-align: right;\n",
       "    }\n",
       "</style>\n",
       "<table border=\"1\" class=\"dataframe\">\n",
       "  <thead>\n",
       "    <tr style=\"text-align: right;\">\n",
       "      <th></th>\n",
       "      <th>popularity</th>\n",
       "      <th>duration_ms</th>\n",
       "      <th>danceability</th>\n",
       "      <th>loudness</th>\n",
       "      <th>speechiness</th>\n",
       "      <th>acousticness</th>\n",
       "      <th>instrumentalness</th>\n",
       "      <th>liveness</th>\n",
       "      <th>valence</th>\n",
       "      <th>tempo</th>\n",
       "      <th>time_signature</th>\n",
       "    </tr>\n",
       "  </thead>\n",
       "  <tbody>\n",
       "    <tr>\n",
       "      <th>0</th>\n",
       "      <td>0.14</td>\n",
       "      <td>266773</td>\n",
       "      <td>0.429</td>\n",
       "      <td>-7.227</td>\n",
       "      <td>0.0281</td>\n",
       "      <td>0.00239</td>\n",
       "      <td>0.000121</td>\n",
       "      <td>0.2340</td>\n",
       "      <td>0.285</td>\n",
       "      <td>173.372</td>\n",
       "      <td>4</td>\n",
       "    </tr>\n",
       "    <tr>\n",
       "      <th>1</th>\n",
       "      <td>0.33</td>\n",
       "      <td>201960</td>\n",
       "      <td>0.659</td>\n",
       "      <td>-5.850</td>\n",
       "      <td>0.0437</td>\n",
       "      <td>0.00450</td>\n",
       "      <td>0.000002</td>\n",
       "      <td>0.3350</td>\n",
       "      <td>0.798</td>\n",
       "      <td>106.965</td>\n",
       "      <td>4</td>\n",
       "    </tr>\n",
       "    <tr>\n",
       "      <th>2</th>\n",
       "      <td>0.16</td>\n",
       "      <td>216880</td>\n",
       "      <td>0.556</td>\n",
       "      <td>-5.870</td>\n",
       "      <td>0.0584</td>\n",
       "      <td>0.00958</td>\n",
       "      <td>0.000000</td>\n",
       "      <td>0.2090</td>\n",
       "      <td>0.400</td>\n",
       "      <td>105.143</td>\n",
       "      <td>4</td>\n",
       "    </tr>\n",
       "    <tr>\n",
       "      <th>3</th>\n",
       "      <td>0.16</td>\n",
       "      <td>284200</td>\n",
       "      <td>0.949</td>\n",
       "      <td>-4.244</td>\n",
       "      <td>0.0572</td>\n",
       "      <td>0.03020</td>\n",
       "      <td>0.000000</td>\n",
       "      <td>0.0454</td>\n",
       "      <td>0.760</td>\n",
       "      <td>104.504</td>\n",
       "      <td>4</td>\n",
       "    </tr>\n",
       "    <tr>\n",
       "      <th>4</th>\n",
       "      <td>0.63</td>\n",
       "      <td>201960</td>\n",
       "      <td>0.659</td>\n",
       "      <td>-5.850</td>\n",
       "      <td>0.0437</td>\n",
       "      <td>0.00450</td>\n",
       "      <td>0.000002</td>\n",
       "      <td>0.3350</td>\n",
       "      <td>0.798</td>\n",
       "      <td>106.965</td>\n",
       "      <td>4</td>\n",
       "    </tr>\n",
       "  </tbody>\n",
       "</table>\n",
       "</div>"
      ],
      "text/plain": [
       "   popularity  duration_ms  danceability  loudness  speechiness  acousticness  \\\n",
       "0        0.14       266773         0.429    -7.227       0.0281       0.00239   \n",
       "1        0.33       201960         0.659    -5.850       0.0437       0.00450   \n",
       "2        0.16       216880         0.556    -5.870       0.0584       0.00958   \n",
       "3        0.16       284200         0.949    -4.244       0.0572       0.03020   \n",
       "4        0.63       201960         0.659    -5.850       0.0437       0.00450   \n",
       "\n",
       "   instrumentalness  liveness  valence    tempo  time_signature  \n",
       "0          0.000121    0.2340    0.285  173.372               4  \n",
       "1          0.000002    0.3350    0.798  106.965               4  \n",
       "2          0.000000    0.2090    0.400  105.143               4  \n",
       "3          0.000000    0.0454    0.760  104.504               4  \n",
       "4          0.000002    0.3350    0.798  106.965               4  "
      ]
     },
     "execution_count": 3,
     "metadata": {},
     "output_type": "execute_result"
    }
   ],
   "source": [
    "df.head()"
   ]
  },
  {
   "cell_type": "code",
   "execution_count": 4,
   "id": "333a0bd8",
   "metadata": {
    "scrolled": true
   },
   "outputs": [
    {
     "name": "stdout",
     "output_type": "stream",
     "text": [
      "<class 'pandas.core.frame.DataFrame'>\n",
      "RangeIndex: 92194 entries, 0 to 92193\n",
      "Data columns (total 11 columns):\n",
      " #   Column            Non-Null Count  Dtype  \n",
      "---  ------            --------------  -----  \n",
      " 0   popularity        92194 non-null  float64\n",
      " 1   duration_ms       92194 non-null  int64  \n",
      " 2   danceability      92194 non-null  float64\n",
      " 3   loudness          92194 non-null  float64\n",
      " 4   speechiness       92194 non-null  float64\n",
      " 5   acousticness      92194 non-null  float64\n",
      " 6   instrumentalness  92194 non-null  float64\n",
      " 7   liveness          92194 non-null  float64\n",
      " 8   valence           92194 non-null  float64\n",
      " 9   tempo             92194 non-null  float64\n",
      " 10  time_signature    92194 non-null  int64  \n",
      "dtypes: float64(9), int64(2)\n",
      "memory usage: 7.7 MB\n"
     ]
    }
   ],
   "source": [
    "df.info()"
   ]
  },
  {
   "cell_type": "code",
   "execution_count": 5,
   "id": "56de8bee",
   "metadata": {},
   "outputs": [],
   "source": [
    "X= df.drop('popularity', axis=1)\n",
    "y= df['popularity']"
   ]
  },
  {
   "cell_type": "markdown",
   "id": "f8744e60",
   "metadata": {},
   "source": [
    "Let's split the data into training and testing sets."
   ]
  },
  {
   "cell_type": "code",
   "execution_count": 6,
   "id": "49b547df",
   "metadata": {},
   "outputs": [],
   "source": [
    "X_train, X_test, y_train, y_test= train_test_split(X, y,test_size=0.3, random_state=12)"
   ]
  },
  {
   "cell_type": "code",
   "execution_count": 7,
   "id": "3c7f8d20",
   "metadata": {
    "scrolled": false
   },
   "outputs": [
    {
     "data": {
      "text/html": [
       "<div>\n",
       "<style scoped>\n",
       "    .dataframe tbody tr th:only-of-type {\n",
       "        vertical-align: middle;\n",
       "    }\n",
       "\n",
       "    .dataframe tbody tr th {\n",
       "        vertical-align: top;\n",
       "    }\n",
       "\n",
       "    .dataframe thead th {\n",
       "        text-align: right;\n",
       "    }\n",
       "</style>\n",
       "<table border=\"1\" class=\"dataframe\">\n",
       "  <thead>\n",
       "    <tr style=\"text-align: right;\">\n",
       "      <th></th>\n",
       "      <th>popularity</th>\n",
       "      <th>duration_ms</th>\n",
       "      <th>danceability</th>\n",
       "      <th>loudness</th>\n",
       "      <th>speechiness</th>\n",
       "      <th>acousticness</th>\n",
       "      <th>instrumentalness</th>\n",
       "      <th>liveness</th>\n",
       "      <th>valence</th>\n",
       "      <th>tempo</th>\n",
       "      <th>time_signature</th>\n",
       "    </tr>\n",
       "  </thead>\n",
       "  <tbody>\n",
       "    <tr>\n",
       "      <th>count</th>\n",
       "      <td>92194.000000</td>\n",
       "      <td>9.219400e+04</td>\n",
       "      <td>92194.000000</td>\n",
       "      <td>92194.000000</td>\n",
       "      <td>92194.00000</td>\n",
       "      <td>92194.000000</td>\n",
       "      <td>92194.000000</td>\n",
       "      <td>92194.000000</td>\n",
       "      <td>92194.000000</td>\n",
       "      <td>92194.000000</td>\n",
       "      <td>92194.000000</td>\n",
       "    </tr>\n",
       "    <tr>\n",
       "      <th>mean</th>\n",
       "      <td>0.620856</td>\n",
       "      <td>2.385335e+05</td>\n",
       "      <td>0.600292</td>\n",
       "      <td>-7.563552</td>\n",
       "      <td>0.08614</td>\n",
       "      <td>0.306901</td>\n",
       "      <td>0.063995</td>\n",
       "      <td>0.207626</td>\n",
       "      <td>0.545761</td>\n",
       "      <td>121.392948</td>\n",
       "      <td>3.925559</td>\n",
       "    </tr>\n",
       "    <tr>\n",
       "      <th>std</th>\n",
       "      <td>0.162090</td>\n",
       "      <td>1.132078e+05</td>\n",
       "      <td>0.159702</td>\n",
       "      <td>3.763095</td>\n",
       "      <td>0.11218</td>\n",
       "      <td>0.295936</td>\n",
       "      <td>0.205188</td>\n",
       "      <td>0.184344</td>\n",
       "      <td>0.252382</td>\n",
       "      <td>29.337843</td>\n",
       "      <td>0.364847</td>\n",
       "    </tr>\n",
       "    <tr>\n",
       "      <th>min</th>\n",
       "      <td>0.060000</td>\n",
       "      <td>6.360000e+03</td>\n",
       "      <td>0.000000</td>\n",
       "      <td>-60.000000</td>\n",
       "      <td>0.00000</td>\n",
       "      <td>0.000000</td>\n",
       "      <td>0.000000</td>\n",
       "      <td>0.000000</td>\n",
       "      <td>0.000000</td>\n",
       "      <td>0.000000</td>\n",
       "      <td>0.000000</td>\n",
       "    </tr>\n",
       "    <tr>\n",
       "      <th>25%</th>\n",
       "      <td>0.510000</td>\n",
       "      <td>1.949470e+05</td>\n",
       "      <td>0.498000</td>\n",
       "      <td>-9.042000</td>\n",
       "      <td>0.03320</td>\n",
       "      <td>0.040300</td>\n",
       "      <td>0.000000</td>\n",
       "      <td>0.096000</td>\n",
       "      <td>0.343000</td>\n",
       "      <td>97.951500</td>\n",
       "      <td>4.000000</td>\n",
       "    </tr>\n",
       "    <tr>\n",
       "      <th>50%</th>\n",
       "      <td>0.610000</td>\n",
       "      <td>2.288025e+05</td>\n",
       "      <td>0.611000</td>\n",
       "      <td>-6.816000</td>\n",
       "      <td>0.04480</td>\n",
       "      <td>0.208000</td>\n",
       "      <td>0.000003</td>\n",
       "      <td>0.132000</td>\n",
       "      <td>0.549000</td>\n",
       "      <td>120.379000</td>\n",
       "      <td>4.000000</td>\n",
       "    </tr>\n",
       "    <tr>\n",
       "      <th>75%</th>\n",
       "      <td>0.720000</td>\n",
       "      <td>2.687652e+05</td>\n",
       "      <td>0.716000</td>\n",
       "      <td>-5.143000</td>\n",
       "      <td>0.08200</td>\n",
       "      <td>0.530000</td>\n",
       "      <td>0.000607</td>\n",
       "      <td>0.266000</td>\n",
       "      <td>0.758000</td>\n",
       "      <td>139.847750</td>\n",
       "      <td>4.000000</td>\n",
       "    </tr>\n",
       "    <tr>\n",
       "      <th>max</th>\n",
       "      <td>1.000000</td>\n",
       "      <td>4.995083e+06</td>\n",
       "      <td>0.991000</td>\n",
       "      <td>2.854000</td>\n",
       "      <td>0.96200</td>\n",
       "      <td>0.996000</td>\n",
       "      <td>1.000000</td>\n",
       "      <td>1.000000</td>\n",
       "      <td>1.000000</td>\n",
       "      <td>220.230000</td>\n",
       "      <td>5.000000</td>\n",
       "    </tr>\n",
       "  </tbody>\n",
       "</table>\n",
       "</div>"
      ],
      "text/plain": [
       "         popularity   duration_ms  danceability      loudness  speechiness  \\\n",
       "count  92194.000000  9.219400e+04  92194.000000  92194.000000  92194.00000   \n",
       "mean       0.620856  2.385335e+05      0.600292     -7.563552      0.08614   \n",
       "std        0.162090  1.132078e+05      0.159702      3.763095      0.11218   \n",
       "min        0.060000  6.360000e+03      0.000000    -60.000000      0.00000   \n",
       "25%        0.510000  1.949470e+05      0.498000     -9.042000      0.03320   \n",
       "50%        0.610000  2.288025e+05      0.611000     -6.816000      0.04480   \n",
       "75%        0.720000  2.687652e+05      0.716000     -5.143000      0.08200   \n",
       "max        1.000000  4.995083e+06      0.991000      2.854000      0.96200   \n",
       "\n",
       "       acousticness  instrumentalness      liveness       valence  \\\n",
       "count  92194.000000      92194.000000  92194.000000  92194.000000   \n",
       "mean       0.306901          0.063995      0.207626      0.545761   \n",
       "std        0.295936          0.205188      0.184344      0.252382   \n",
       "min        0.000000          0.000000      0.000000      0.000000   \n",
       "25%        0.040300          0.000000      0.096000      0.343000   \n",
       "50%        0.208000          0.000003      0.132000      0.549000   \n",
       "75%        0.530000          0.000607      0.266000      0.758000   \n",
       "max        0.996000          1.000000      1.000000      1.000000   \n",
       "\n",
       "              tempo  time_signature  \n",
       "count  92194.000000    92194.000000  \n",
       "mean     121.392948        3.925559  \n",
       "std       29.337843        0.364847  \n",
       "min        0.000000        0.000000  \n",
       "25%       97.951500        4.000000  \n",
       "50%      120.379000        4.000000  \n",
       "75%      139.847750        4.000000  \n",
       "max      220.230000        5.000000  "
      ]
     },
     "execution_count": 7,
     "metadata": {},
     "output_type": "execute_result"
    }
   ],
   "source": [
    "df.describe()"
   ]
  },
  {
   "cell_type": "markdown",
   "id": "53156644",
   "metadata": {},
   "source": [
    "### Dummy Regressor"
   ]
  },
  {
   "cell_type": "markdown",
   "id": "18145144",
   "metadata": {},
   "source": [
    "Let's explore different models we can predict popularity by. A good starting point would be to see how good the mean would be as a predictor. DummyRegressor can do just that."
   ]
  },
  {
   "cell_type": "code",
   "execution_count": 8,
   "id": "e1ba1510",
   "metadata": {},
   "outputs": [
    {
     "data": {
      "text/plain": [
       "0.6211939257767103"
      ]
     },
     "execution_count": 8,
     "metadata": {},
     "output_type": "execute_result"
    }
   ],
   "source": [
    "train_mean= y_train.mean()\n",
    "train_mean"
   ]
  },
  {
   "cell_type": "code",
   "execution_count": 9,
   "id": "0fbe60a0",
   "metadata": {
    "scrolled": true
   },
   "outputs": [
    {
     "data": {
      "text/plain": [
       "-4.905220688766754e-05"
      ]
     },
     "execution_count": 9,
     "metadata": {},
     "output_type": "execute_result"
    }
   ],
   "source": [
    "dumb_reg= DummyRegressor(strategy='mean')\n",
    "\n",
    "dumb_reg.fit(X_train, y_train)\n",
    "dumb_reg.score(X_test, y_test)"
   ]
  },
  {
   "cell_type": "markdown",
   "id": "d1b8247d",
   "metadata": {},
   "source": [
    "It comes pretty close for now, but how good is this? We'll see how closely this explains the actual values. There are many metrics we can use to do this. We will try different metrics to choose which one works best for our specific scenario."
   ]
  },
  {
   "cell_type": "markdown",
   "id": "48199636",
   "metadata": {},
   "source": [
    "## Metrics\n",
    "\n",
    "**1. Coefficient of determination ($R^{2}$):**\n",
    "<br> We will make predictions by creating length of size of training set with the single value of the mean."
   ]
  },
  {
   "cell_type": "code",
   "execution_count": 10,
   "id": "e6827d38",
   "metadata": {},
   "outputs": [
    {
     "data": {
      "text/plain": [
       "array([0.62119393, 0.62119393, 0.62119393, 0.62119393, 0.62119393])"
      ]
     },
     "execution_count": 10,
     "metadata": {},
     "output_type": "execute_result"
    }
   ],
   "source": [
    "y_tr_pred_ = train_mean* np.ones(len(y_train))\n",
    "y_tr_pred_[:5]"
   ]
  },
  {
   "cell_type": "code",
   "execution_count": 11,
   "id": "b7acd28f",
   "metadata": {},
   "outputs": [
    {
     "data": {
      "text/plain": [
       "array([0.62119393, 0.62119393, 0.62119393, 0.62119393, 0.62119393])"
      ]
     },
     "execution_count": 11,
     "metadata": {},
     "output_type": "execute_result"
    }
   ],
   "source": [
    "y_tr_pred= dumb_reg.predict(X_train)\n",
    "y_tr_pred[:5]"
   ]
  },
  {
   "cell_type": "markdown",
   "id": "f1e97145",
   "metadata": {},
   "source": [
    "They produce exactly same results. Let's find out ($R^{2}$) score."
   ]
  },
  {
   "cell_type": "code",
   "execution_count": 12,
   "id": "36afd2f3",
   "metadata": {
    "scrolled": true
   },
   "outputs": [
    {
     "data": {
      "text/plain": [
       "0.0"
      ]
     },
     "execution_count": 12,
     "metadata": {},
     "output_type": "execute_result"
    }
   ],
   "source": [
    "r2_score(y_train, y_tr_pred)"
   ]
  },
  {
   "cell_type": "markdown",
   "id": "ec9a3d5e",
   "metadata": {},
   "source": [
    "We got $R^{2}$ score of 0 on our training set when we used mean as a predictor. $R^{2}$ explains predictions in terms of the amount of variance. Low $R^{2}$ score suggests small amount of variances explainedn. Let's try this on our test set. "
   ]
  },
  {
   "cell_type": "code",
   "execution_count": 13,
   "id": "6dd38988",
   "metadata": {},
   "outputs": [
    {
     "data": {
      "text/plain": [
       "-4.905220688766754e-05"
      ]
     },
     "execution_count": 13,
     "metadata": {},
     "output_type": "execute_result"
    }
   ],
   "source": [
    "y_te_pred= train_mean*np.ones(len(y_test))\n",
    "r2_score(y_test, y_te_pred)"
   ]
  },
  {
   "cell_type": "markdown",
   "id": "0c771dfb",
   "metadata": {},
   "source": [
    "This negative number was expected, because most models perform worse on test sets than on training sets."
   ]
  },
  {
   "cell_type": "markdown",
   "id": "f82f78f5",
   "metadata": {},
   "source": [
    "**2.Mean Absolute Error (MAE)**\n",
    "<br>\n",
    "MAE tells us how much we expect to be off by if we guessed based on the average of known values."
   ]
  },
  {
   "cell_type": "code",
   "execution_count": 14,
   "id": "112a9959",
   "metadata": {},
   "outputs": [
    {
     "data": {
      "text/plain": [
       "(0.1283096229008628, 0.12695481498629366)"
      ]
     },
     "execution_count": 14,
     "metadata": {},
     "output_type": "execute_result"
    }
   ],
   "source": [
    "mean_absolute_error(y_train, y_tr_pred), mean_absolute_error(y_test, y_te_pred)"
   ]
  },
  {
   "cell_type": "markdown",
   "id": "9104ce9c",
   "metadata": {},
   "source": [
    "MAE on testing set is very slightly worse than on training data, but they are very similar."
   ]
  },
  {
   "cell_type": "markdown",
   "id": "fd85646f",
   "metadata": {},
   "source": [
    "**3.Mean Squared Error (MSE)**\n",
    "<br>Mean squared error is the average of square of errors."
   ]
  },
  {
   "cell_type": "code",
   "execution_count": 15,
   "id": "b989737b",
   "metadata": {},
   "outputs": [
    {
     "data": {
      "text/plain": [
       "(0.02641994124147989, 0.02592975006310815)"
      ]
     },
     "execution_count": 15,
     "metadata": {},
     "output_type": "execute_result"
    }
   ],
   "source": [
    "mean_squared_error(y_train, y_tr_pred), mean_squared_error(y_test, y_te_pred)"
   ]
  },
  {
   "cell_type": "markdown",
   "id": "e48cec88",
   "metadata": {},
   "source": [
    "While it was pretty obvious from $R^{2}$ score that a simple average would not be the best model, it was worth double (or triple) checking it using different metrics. "
   ]
  },
  {
   "cell_type": "markdown",
   "id": "c1f734c8",
   "metadata": {},
   "source": [
    "## Initial Models:"
   ]
  },
  {
   "cell_type": "markdown",
   "id": "564edfe7",
   "metadata": {},
   "source": [
    "Let's build pipelines to simplify processes. "
   ]
  },
  {
   "cell_type": "code",
   "execution_count": 16,
   "id": "3c7d2913",
   "metadata": {},
   "outputs": [],
   "source": [
    "pipe = make_pipeline(\n",
    "    StandardScaler(),\n",
    "    LinearRegression()\n",
    ")"
   ]
  },
  {
   "cell_type": "code",
   "execution_count": 17,
   "id": "174f8607",
   "metadata": {},
   "outputs": [
    {
     "data": {
      "text/plain": [
       "sklearn.pipeline.Pipeline"
      ]
     },
     "execution_count": 17,
     "metadata": {},
     "output_type": "execute_result"
    }
   ],
   "source": [
    "type(pipe)"
   ]
  },
  {
   "cell_type": "code",
   "execution_count": 18,
   "id": "53af0707",
   "metadata": {},
   "outputs": [
    {
     "data": {
      "text/plain": [
       "(True, True)"
      ]
     },
     "execution_count": 18,
     "metadata": {},
     "output_type": "execute_result"
    }
   ],
   "source": [
    "hasattr(pipe, 'fit'), hasattr(pipe, 'predict')"
   ]
  },
  {
   "cell_type": "markdown",
   "id": "cc1b9a16",
   "metadata": {},
   "source": [
    "Let's try fitting, making predictions, and evaluating performance using this pipeline."
   ]
  },
  {
   "cell_type": "code",
   "execution_count": 19,
   "id": "0c056df5",
   "metadata": {},
   "outputs": [
    {
     "data": {
      "text/plain": [
       "Pipeline(steps=[('standardscaler', StandardScaler()),\n",
       "                ('linearregression', LinearRegression())])"
      ]
     },
     "execution_count": 19,
     "metadata": {},
     "output_type": "execute_result"
    }
   ],
   "source": [
    "pipe.fit(X_train, y_train)"
   ]
  },
  {
   "cell_type": "code",
   "execution_count": 20,
   "id": "38192911",
   "metadata": {},
   "outputs": [],
   "source": [
    "y_tr_pred= pipe.predict(X_train)\n",
    "y_te_pred= pipe.predict(X_test)"
   ]
  },
  {
   "cell_type": "code",
   "execution_count": 21,
   "id": "c80da551",
   "metadata": {},
   "outputs": [
    {
     "data": {
      "text/plain": [
       "(0.05893722425488512, 0.0562299566634179)"
      ]
     },
     "execution_count": 21,
     "metadata": {},
     "output_type": "execute_result"
    }
   ],
   "source": [
    "r2_score(y_train, y_tr_pred), r2_score(y_test, y_te_pred)"
   ]
  },
  {
   "cell_type": "markdown",
   "id": "2e0af42b",
   "metadata": {},
   "source": [
    "Given the number of features, it is possible that I am overfitting. As such, I will limit number of features that get used based on f_regression."
   ]
  },
  {
   "cell_type": "code",
   "execution_count": 22,
   "id": "c458aa32",
   "metadata": {},
   "outputs": [],
   "source": [
    "pipe = make_pipeline(\n",
    "    StandardScaler(),\n",
    "    SelectKBest(f_regression),\n",
    "    LinearRegression()\n",
    ")"
   ]
  },
  {
   "cell_type": "code",
   "execution_count": 23,
   "id": "9886248f",
   "metadata": {},
   "outputs": [
    {
     "data": {
      "text/plain": [
       "Pipeline(steps=[('standardscaler', StandardScaler()),\n",
       "                ('selectkbest',\n",
       "                 SelectKBest(score_func=<function f_regression at 0x7ff02ee109d0>)),\n",
       "                ('linearregression', LinearRegression())])"
      ]
     },
     "execution_count": 23,
     "metadata": {},
     "output_type": "execute_result"
    }
   ],
   "source": [
    "pipe.fit(X_train, y_train)"
   ]
  },
  {
   "cell_type": "code",
   "execution_count": 24,
   "id": "8de99d56",
   "metadata": {},
   "outputs": [],
   "source": [
    "y_tr_pred = pipe.predict(X_train)\n",
    "y_te_pred = pipe.predict(X_test)"
   ]
  },
  {
   "cell_type": "code",
   "execution_count": 25,
   "id": "1e41fd39",
   "metadata": {},
   "outputs": [
    {
     "data": {
      "text/plain": [
       "(0.05893722425488512, 0.0562299566634179)"
      ]
     },
     "execution_count": 25,
     "metadata": {},
     "output_type": "execute_result"
    }
   ],
   "source": [
    "r2_score(y_train, y_tr_pred), r2_score(y_test, y_te_pred)"
   ]
  },
  {
   "cell_type": "code",
   "execution_count": 26,
   "id": "0aef2356",
   "metadata": {},
   "outputs": [
    {
     "data": {
      "text/plain": [
       "(0.12555170150316994, 0.12440558470561941)"
      ]
     },
     "execution_count": 26,
     "metadata": {},
     "output_type": "execute_result"
    }
   ],
   "source": [
    "mean_absolute_error(y_train, y_tr_pred), mean_absolute_error(y_test, y_te_pred)"
   ]
  },
  {
   "cell_type": "markdown",
   "id": "a37562cb",
   "metadata": {},
   "source": [
    "We see that our model performance got much worse than when we didn't limit features. This was an expected result of limiting feature numbers. Let's try to include more."
   ]
  },
  {
   "cell_type": "code",
   "execution_count": 27,
   "id": "0057674e",
   "metadata": {},
   "outputs": [],
   "source": [
    "pipe10 = make_pipeline(\n",
    "    StandardScaler(),\n",
    "    SelectKBest(f_regression, k=10),\n",
    "    LinearRegression()\n",
    ")"
   ]
  },
  {
   "cell_type": "code",
   "execution_count": 28,
   "id": "c8df7f41",
   "metadata": {},
   "outputs": [],
   "source": [
    "y_tr_pred = pipe.predict(X_train)\n",
    "y_te_pred = pipe.predict(X_test)"
   ]
  },
  {
   "cell_type": "code",
   "execution_count": 29,
   "id": "59101fe2",
   "metadata": {},
   "outputs": [
    {
     "data": {
      "text/plain": [
       "(0.05893722425488512, 0.0562299566634179)"
      ]
     },
     "execution_count": 29,
     "metadata": {},
     "output_type": "execute_result"
    }
   ],
   "source": [
    "r2_score(y_train, y_tr_pred), r2_score(y_test, y_te_pred)"
   ]
  },
  {
   "cell_type": "code",
   "execution_count": 30,
   "id": "f90de14b",
   "metadata": {},
   "outputs": [
    {
     "data": {
      "text/plain": [
       "(0.12555170150316994, 0.12440558470561941)"
      ]
     },
     "execution_count": 30,
     "metadata": {},
     "output_type": "execute_result"
    }
   ],
   "source": [
    "mean_absolute_error(y_train, y_tr_pred), mean_absolute_error(y_test, y_te_pred)"
   ]
  },
  {
   "cell_type": "markdown",
   "id": "4c86fe36",
   "metadata": {},
   "source": [
    "It didn't make too much of a difference. Let's try to use cross-validation to assess model performance."
   ]
  },
  {
   "cell_type": "code",
   "execution_count": 31,
   "id": "e7b1a73a",
   "metadata": {},
   "outputs": [],
   "source": [
    "cv_results= cross_validate(pipe10, X_train, y_train, cv=5)"
   ]
  },
  {
   "cell_type": "code",
   "execution_count": 32,
   "id": "8c9958c0",
   "metadata": {},
   "outputs": [
    {
     "data": {
      "text/plain": [
       "array([0.05448415, 0.06167023, 0.06285393, 0.05906513, 0.05470666])"
      ]
     },
     "execution_count": 32,
     "metadata": {},
     "output_type": "execute_result"
    }
   ],
   "source": [
    "cv_scores= cv_results['test_score']\n",
    "cv_scores"
   ]
  },
  {
   "cell_type": "code",
   "execution_count": 33,
   "id": "e01859c5",
   "metadata": {},
   "outputs": [
    {
     "data": {
      "text/plain": [
       "(0.058556019387911794, 0.0034591100674052832)"
      ]
     },
     "execution_count": 33,
     "metadata": {},
     "output_type": "execute_result"
    }
   ],
   "source": [
    "np.mean(cv_scores), np.std(cv_scores)"
   ]
  },
  {
   "cell_type": "markdown",
   "id": "8bb5a0ac",
   "metadata": {},
   "source": [
    "We can estimate the variability, or uncertainty of model performance."
   ]
  },
  {
   "cell_type": "code",
   "execution_count": 34,
   "id": "b0fbe91a",
   "metadata": {
    "scrolled": true
   },
   "outputs": [
    {
     "data": {
      "text/plain": [
       "array([0.05, 0.07])"
      ]
     },
     "execution_count": 34,
     "metadata": {},
     "output_type": "execute_result"
    }
   ],
   "source": [
    "np.round((np.mean(cv_scores) - 2 * np.std(cv_scores), np.mean(cv_scores) + 2 * np.std(cv_scores)), 2)"
   ]
  },
  {
   "cell_type": "markdown",
   "id": "9f502d61",
   "metadata": {},
   "source": [
    "## Linear Regression Model"
   ]
  },
  {
   "cell_type": "markdown",
   "id": "eae6c7cd",
   "metadata": {},
   "source": [
    "### GridSearchCV - Linear Regression"
   ]
  },
  {
   "cell_type": "code",
   "execution_count": 35,
   "id": "ea3bdb80",
   "metadata": {},
   "outputs": [
    {
     "data": {
      "text/plain": [
       "dict_keys(['memory', 'steps', 'verbose', 'standardscaler', 'selectkbest', 'linearregression', 'standardscaler__copy', 'standardscaler__with_mean', 'standardscaler__with_std', 'selectkbest__k', 'selectkbest__score_func', 'linearregression__copy_X', 'linearregression__fit_intercept', 'linearregression__n_jobs', 'linearregression__normalize', 'linearregression__positive'])"
      ]
     },
     "execution_count": 35,
     "metadata": {},
     "output_type": "execute_result"
    }
   ],
   "source": [
    "pipe.get_params().keys()"
   ]
  },
  {
   "cell_type": "code",
   "execution_count": 36,
   "id": "68534b63",
   "metadata": {},
   "outputs": [],
   "source": [
    "k = [k+1 for k in range(len(X_train.columns))]\n",
    "grid_params = {'selectkbest__k': k}"
   ]
  },
  {
   "cell_type": "code",
   "execution_count": 37,
   "id": "7c3dc902",
   "metadata": {},
   "outputs": [],
   "source": [
    "lr_grid_cv = GridSearchCV(pipe, param_grid=grid_params, cv=5, n_jobs=-1)"
   ]
  },
  {
   "cell_type": "code",
   "execution_count": 38,
   "id": "8a8a0d48",
   "metadata": {},
   "outputs": [
    {
     "data": {
      "text/plain": [
       "GridSearchCV(cv=5,\n",
       "             estimator=Pipeline(steps=[('standardscaler', StandardScaler()),\n",
       "                                       ('selectkbest',\n",
       "                                        SelectKBest(score_func=<function f_regression at 0x7ff02ee109d0>)),\n",
       "                                       ('linearregression',\n",
       "                                        LinearRegression())]),\n",
       "             n_jobs=-1,\n",
       "             param_grid={'selectkbest__k': [1, 2, 3, 4, 5, 6, 7, 8, 9, 10]})"
      ]
     },
     "execution_count": 38,
     "metadata": {},
     "output_type": "execute_result"
    }
   ],
   "source": [
    "lr_grid_cv.fit(X_train, y_train)"
   ]
  },
  {
   "cell_type": "code",
   "execution_count": 39,
   "id": "392d4275",
   "metadata": {},
   "outputs": [],
   "source": [
    "score_mean = lr_grid_cv.cv_results_['mean_test_score']\n",
    "score_std = lr_grid_cv.cv_results_['std_test_score']\n",
    "cv_k = [k for k in lr_grid_cv.cv_results_['param_selectkbest__k']]\n"
   ]
  },
  {
   "cell_type": "code",
   "execution_count": 40,
   "id": "e83fa511",
   "metadata": {},
   "outputs": [
    {
     "data": {
      "text/plain": [
       "{'selectkbest__k': 10}"
      ]
     },
     "execution_count": 40,
     "metadata": {},
     "output_type": "execute_result"
    }
   ],
   "source": [
    "lr_grid_cv.best_params_"
   ]
  },
  {
   "cell_type": "code",
   "execution_count": 41,
   "id": "8d467a2c",
   "metadata": {},
   "outputs": [
    {
     "data": {
      "text/plain": [
       "Text(0.5, 1.0, 'Pipeline mean CV score (error bars +/- 1sd)')"
      ]
     },
     "execution_count": 41,
     "metadata": {},
     "output_type": "execute_result"
    },
    {
     "data": {
      "image/png": "[encoded data removed]",
      "text/plain": [
       "<Figure size 1000x500 with 1 Axes>"
      ]
     },
     "metadata": {},
     "output_type": "display_data"
    }
   ],
   "source": [
    "best_k = lr_grid_cv.best_params_['selectkbest__k']\n",
    "plt.subplots(figsize=(10, 5))\n",
    "plt.errorbar(cv_k, score_mean, yerr=score_std)\n",
    "plt.axvline(x=best_k, c='r', ls='--', alpha=.5)\n",
    "plt.xlabel('k')\n",
    "plt.ylabel('CV score (r-squared)')\n",
    "plt.title('Pipeline mean CV score (error bars +/- 1sd)')"
   ]
  },
  {
   "cell_type": "code",
   "execution_count": 42,
   "id": "5def58cb",
   "metadata": {},
   "outputs": [],
   "source": [
    "selected = lr_grid_cv.best_estimator_.named_steps.selectkbest.get_support()"
   ]
  },
  {
   "cell_type": "code",
   "execution_count": 43,
   "id": "d8d4c967",
   "metadata": {
    "scrolled": true
   },
   "outputs": [
    {
     "data": {
      "text/plain": [
       "instrumentalness    0.024961\n",
       "valence             0.015556\n",
       "liveness            0.010370\n",
       "duration_ms         0.005414\n",
       "tempo               0.001156\n",
       "time_signature      0.001079\n",
       "speechiness        -0.002219\n",
       "acousticness       -0.006030\n",
       "danceability       -0.016478\n",
       "loudness           -0.017945\n",
       "dtype: float64"
      ]
     },
     "execution_count": 43,
     "metadata": {},
     "output_type": "execute_result"
    }
   ],
   "source": [
    "coefs= lr_grid_cv.best_estimator_.named_steps.linearregression.coef_\n",
    "features= X_train.columns[selected]\n",
    "pd.Series(coefs, index= features).sort_values(ascending= False)"
   ]
  },
  {
   "cell_type": "markdown",
   "id": "8bdf1ceb",
   "metadata": {},
   "source": [
    "We see that the most positive feature were instrumentalness. This differs from our EDA, which showed preference to non-instrumentalness. Let's try a different model."
   ]
  },
  {
   "cell_type": "markdown",
   "id": "7fd3c1ce",
   "metadata": {},
   "source": [
    "## Random Forest Model"
   ]
  },
  {
   "cell_type": "code",
   "execution_count": 44,
   "id": "f2329807",
   "metadata": {},
   "outputs": [],
   "source": [
    "RF= RandomForestRegressor(random_state= 47)"
   ]
  },
  {
   "cell_type": "code",
   "execution_count": 45,
   "id": "70599fa4",
   "metadata": {},
   "outputs": [],
   "source": [
    "rf_default_cv_results= cross_validate(RF, X_train, y_train, cv=5)"
   ]
  },
  {
   "cell_type": "code",
   "execution_count": 46,
   "id": "e6a99d8e",
   "metadata": {},
   "outputs": [
    {
     "data": {
      "text/plain": [
       "array([0.17252583, 0.16152032, 0.17794416, 0.16830315, 0.170554  ])"
      ]
     },
     "execution_count": 46,
     "metadata": {},
     "output_type": "execute_result"
    }
   ],
   "source": [
    "rf_cv_scores= rf_default_cv_results['test_score']\n",
    "rf_cv_scores"
   ]
  },
  {
   "cell_type": "code",
   "execution_count": 47,
   "id": "5c07ea8b",
   "metadata": {
    "scrolled": false
   },
   "outputs": [
    {
     "data": {
      "text/plain": [
       "(0.17016949479007495, 0.005374700071502436)"
      ]
     },
     "execution_count": 47,
     "metadata": {},
     "output_type": "execute_result"
    }
   ],
   "source": [
    "np.mean(rf_cv_scores), np.std(rf_cv_scores)"
   ]
  },
  {
   "cell_type": "markdown",
   "id": "b01477f0",
   "metadata": {},
   "source": [
    "Random Forest Regression model looks much more promising. Let's see what hyperparameter tuning can do for this model."
   ]
  },
  {
   "cell_type": "markdown",
   "id": "2e2f80e7",
   "metadata": {},
   "source": [
    "#### Random Forest Model- Bayesian Optimization"
   ]
  },
  {
   "cell_type": "code",
   "execution_count": 48,
   "id": "3f6090a3",
   "metadata": {},
   "outputs": [
    {
     "data": {
      "text/plain": [
       "dict_keys(['fit_time', 'score_time', 'test_score'])"
      ]
     },
     "execution_count": 48,
     "metadata": {},
     "output_type": "execute_result"
    }
   ],
   "source": [
    "cv_results.keys()"
   ]
  },
  {
   "cell_type": "code",
   "execution_count": 49,
   "id": "74c515e8",
   "metadata": {},
   "outputs": [
    {
     "data": {
      "text/plain": [
       "(64535, 10)"
      ]
     },
     "execution_count": 49,
     "metadata": {},
     "output_type": "execute_result"
    }
   ],
   "source": [
    "X_train.shape"
   ]
  },
  {
   "cell_type": "code",
   "execution_count": 50,
   "id": "1528da22",
   "metadata": {},
   "outputs": [
    {
     "data": {
      "text/plain": [
       "(64535,)"
      ]
     },
     "execution_count": 50,
     "metadata": {},
     "output_type": "execute_result"
    }
   ],
   "source": [
    "y_train.shape"
   ]
  },
  {
   "cell_type": "code",
   "execution_count": 51,
   "id": "16250d06",
   "metadata": {},
   "outputs": [],
   "source": [
    "# def fit_model(n_estimators, min_samples_split, max_depth, max_features):\n",
    "#     regressor = RandomForestRegressor()\n",
    "#     params = {\n",
    "#         'n_estimators':round(n_estimators),\n",
    "#         'min_samples_split': round(min_samples_split),\n",
    "#         'max_depth':round(max_depth), \n",
    "#         'max_features':round(max_features),\n",
    "#         'bootstrap': True }\n",
    "\n",
    "#     return np.mean(cross_validate(regressor, X_train, y_train, scoring='r2', cv=5, return_train_score=True)['test_score'])\n"
   ]
  },
  {
   "cell_type": "code",
   "execution_count": 52,
   "id": "d881cd9d",
   "metadata": {
    "scrolled": true
   },
   "outputs": [],
   "source": [
    "# rf_BO = BayesianOptimization(fit_model,{\n",
    "#         \"n_estimators\":(300, 2000), \n",
    "#         \"min_samples_split\":(20,100), \n",
    "#         \"max_depth\":(3,7), \n",
    "#         \"max_features\":(5,13), \n",
    "#     })\n",
    "\n",
    "# rf_BO.maximize(n_iter=10, init_points=2)"
   ]
  },
  {
   "cell_type": "markdown",
   "id": "bcfb807a",
   "metadata": {},
   "source": [
    "### Gradient Boosting Model\n",
    "The performance of Random Forest Model wasn't as good as I hoped. Let's try a gradient boosting model."
   ]
  },
  {
   "cell_type": "markdown",
   "id": "bf0afd46",
   "metadata": {},
   "source": [
    "#### Gradient Boosting Model- Bayesian Optimization"
   ]
  },
  {
   "cell_type": "code",
   "execution_count": 53,
   "id": "8bb2d572",
   "metadata": {},
   "outputs": [
    {
     "name": "stdout",
     "output_type": "stream",
     "text": [
      "|   iter    |  target   | lambda_l1 | lambda_l2 | learni... | max_depth | min_ch... | min_da... | num_le... |\n",
      "-------------------------------------------------------------------------------------------------------------\n",
      "| \u001b[0m1        \u001b[0m | \u001b[0m0.1509   \u001b[0m | \u001b[0m0.1353   \u001b[0m | \u001b[0m0.1437   \u001b[0m | \u001b[0m0.3025   \u001b[0m | \u001b[0m46.96    \u001b[0m | \u001b[0m2.139e+03\u001b[0m | \u001b[0m1.734e+03\u001b[0m | \u001b[0m615.0    \u001b[0m |\n",
      "| \u001b[0m2        \u001b[0m | \u001b[0m0.1509   \u001b[0m | \u001b[0m0.179    \u001b[0m | \u001b[0m0.0404   \u001b[0m | \u001b[0m0.2163   \u001b[0m | \u001b[0m21.33    \u001b[0m | \u001b[0m427.8    \u001b[0m | \u001b[0m614.2    \u001b[0m | \u001b[0m203.5    \u001b[0m |\n",
      "| \u001b[0m3        \u001b[0m | \u001b[0m0.1509   \u001b[0m | \u001b[0m0.419    \u001b[0m | \u001b[0m0.052    \u001b[0m | \u001b[0m0.04153  \u001b[0m | \u001b[0m26.73    \u001b[0m | \u001b[0m9.921e+03\u001b[0m | \u001b[0m145.9    \u001b[0m | \u001b[0m3.992e+03\u001b[0m |\n",
      "| \u001b[0m4        \u001b[0m | \u001b[0m0.1509   \u001b[0m | \u001b[0m0.4011   \u001b[0m | \u001b[0m0.1423   \u001b[0m | \u001b[0m0.2746   \u001b[0m | \u001b[0m61.11    \u001b[0m | \u001b[0m177.9    \u001b[0m | \u001b[0m1.844e+03\u001b[0m | \u001b[0m3.972e+03\u001b[0m |\n",
      "| \u001b[0m5        \u001b[0m | \u001b[0m0.1509   \u001b[0m | \u001b[0m0.1853   \u001b[0m | \u001b[0m0.1044   \u001b[0m | \u001b[0m0.4527   \u001b[0m | \u001b[0m39.29    \u001b[0m | \u001b[0m9.996e+03\u001b[0m | \u001b[0m1.582e+03\u001b[0m | \u001b[0m41.54    \u001b[0m |\n",
      "| \u001b[0m6        \u001b[0m | \u001b[0m0.1509   \u001b[0m | \u001b[0m0.0651   \u001b[0m | \u001b[0m0.3827   \u001b[0m | \u001b[0m0.03833  \u001b[0m | \u001b[0m29.66    \u001b[0m | \u001b[0m9.75e+03 \u001b[0m | \u001b[0m1.46e+03 \u001b[0m | \u001b[0m2.045e+03\u001b[0m |\n",
      "| \u001b[0m7        \u001b[0m | \u001b[0m0.1509   \u001b[0m | \u001b[0m0.4289   \u001b[0m | \u001b[0m0.0747   \u001b[0m | \u001b[0m0.1893   \u001b[0m | \u001b[0m52.32    \u001b[0m | \u001b[0m3.217e+03\u001b[0m | \u001b[0m758.1    \u001b[0m | \u001b[0m2.459e+03\u001b[0m |\n",
      "| \u001b[0m8        \u001b[0m | \u001b[0m0.1509   \u001b[0m | \u001b[0m0.09195  \u001b[0m | \u001b[0m0.1954   \u001b[0m | \u001b[0m0.1862   \u001b[0m | \u001b[0m44.4     \u001b[0m | \u001b[0m682.8    \u001b[0m | \u001b[0m1.944e+03\u001b[0m | \u001b[0m1.589e+03\u001b[0m |\n",
      "| \u001b[0m9        \u001b[0m | \u001b[0m0.1509   \u001b[0m | \u001b[0m0.2325   \u001b[0m | \u001b[0m0.4354   \u001b[0m | \u001b[0m0.4149   \u001b[0m | \u001b[0m43.7     \u001b[0m | \u001b[0m412.2    \u001b[0m | \u001b[0m1.816e+03\u001b[0m | \u001b[0m1.233e+03\u001b[0m |\n",
      "| \u001b[0m10       \u001b[0m | \u001b[0m0.1509   \u001b[0m | \u001b[0m0.03953  \u001b[0m | \u001b[0m0.1331   \u001b[0m | \u001b[0m0.2808   \u001b[0m | \u001b[0m56.29    \u001b[0m | \u001b[0m8.918e+03\u001b[0m | \u001b[0m118.0    \u001b[0m | \u001b[0m63.46    \u001b[0m |\n",
      "| \u001b[0m11       \u001b[0m | \u001b[0m0.1509   \u001b[0m | \u001b[0m0.4781   \u001b[0m | \u001b[0m0.415    \u001b[0m | \u001b[0m0.1163   \u001b[0m | \u001b[0m7.54     \u001b[0m | \u001b[0m6.939e+03\u001b[0m | \u001b[0m1.936e+03\u001b[0m | \u001b[0m3.94e+03 \u001b[0m |\n",
      "| \u001b[0m12       \u001b[0m | \u001b[0m0.1509   \u001b[0m | \u001b[0m0.1448   \u001b[0m | \u001b[0m0.3605   \u001b[0m | \u001b[0m0.06926  \u001b[0m | \u001b[0m37.26    \u001b[0m | \u001b[0m136.4    \u001b[0m | \u001b[0m818.5    \u001b[0m | \u001b[0m39.97    \u001b[0m |\n",
      "=============================================================================================================\n"
     ]
    }
   ],
   "source": [
    "# def fit_model(n_estimators, min_samples_split, max_depth, max_features):\n",
    "#     regressor = RandomForestRegressor()\n",
    "#     params = {\n",
    "#         'n_estimators':round(n_estimators),\n",
    "#         'min_samples_split': round(min_samples_split),\n",
    "#         'max_depth':round(max_depth), \n",
    "#         'max_features':round(max_features),\n",
    "#         'bootstrap': True }\n",
    "\n",
    "#     return np.mean(cross_validate(regressor, X_train, y_train, scoring='r2', cv=5, return_train_score=True)['test_score'])\n",
    "\n",
    "\n",
    "\n",
    "def lgb_eval(num_leaves,max_depth,lambda_l2,lambda_l1,min_child_samples, min_data_in_leaf, learning_rate):\n",
    "    params = {\n",
    "        \"objective\" : \"regression\",\n",
    "        \"metric\" : \"mse\", \n",
    "        'is_unbalance': True,\n",
    "        \"num_leaves\" : round(num_leaves),\n",
    "        \"max_depth\" : round(max_depth),\n",
    "        \"lambda_l2\" : float(lambda_l2),\n",
    "        \"lambda_l1\" : float(lambda_l1),\n",
    "        \"num_threads\" : 20,\n",
    "        \"min_child_samples\" : round(min_child_samples),\n",
    "        'min_data_in_leaf': round(min_data_in_leaf),\n",
    "        \"learning_rate\" : float(learning_rate),\n",
    "        \"subsample_freq\" : 5,\n",
    "        \"bagging_seed\" : 42,\n",
    "        \"verbosity\" : -1,\n",
    "    }\n",
    "    \n",
    "    regressor= lgb.LGBMRegressor()\n",
    "\n",
    "    \n",
    "    cv_results= cross_validate(regressor,X_train, y_train, cv=5, scoring='r2',return_train_score=True)\n",
    "    \n",
    "    return np.mean(cross_validate(regressor, X_train, y_train, scoring='r2', cv=5, return_train_score=True)['test_score'])\n",
    "\n",
    "\n",
    "lgbBO = BayesianOptimization(lgb_eval, {'num_leaves': (25, 4000),\n",
    "                                                'max_depth': (5, 63),\n",
    "                                                'lambda_l2': (0.0, 0.5),\n",
    "                                                'lambda_l1': (0.0, 0.5),\n",
    "                                                'min_child_samples': (50, 10000),\n",
    "                                                'min_data_in_leaf': (100, 2000),\n",
    "                                                \"learning_rate\": (0.03, 0.5)\n",
    "                                                })\n",
    "\n",
    "lgbBO.maximize(n_iter=10, init_points=2)"
   ]
  },
  {
   "cell_type": "markdown",
   "id": "3931f607",
   "metadata": {},
   "source": [
    "Our prediction actually worsened. For now, our best bet is Random Forest regression model. However, I'm still not too excited about our current model performance. Perhaps we should try our hands at classification models."
   ]
  },
  {
   "cell_type": "markdown",
   "id": "fba15140",
   "metadata": {},
   "source": [
    "### Classifications\n",
    "We'll try to predict songs' popularities by categorizing popularities(into \"high\",\"mid\",\"low\"), and classifying songs into those categories."
   ]
  },
  {
   "cell_type": "code",
   "execution_count": null,
   "id": "d040236e",
   "metadata": {},
   "outputs": [],
   "source": [
    "pd.cut(df['popularity'], bins=3)"
   ]
  },
  {
   "cell_type": "code",
   "execution_count": null,
   "id": "2a2292f1",
   "metadata": {
    "scrolled": true
   },
   "outputs": [],
   "source": [
    "labels=['low','medium', 'high']\n",
    "df['popularity']= pd.cut(df['popularity'], bins=3, labels=labels, right=True)"
   ]
  },
  {
   "cell_type": "code",
   "execution_count": null,
   "id": "acf5c5ab",
   "metadata": {},
   "outputs": [],
   "source": [
    "df.popularity.value_counts()"
   ]
  },
  {
   "cell_type": "markdown",
   "id": "c973abe7",
   "metadata": {},
   "source": [
    "The dataset is unbalanced. This is intuitive, because there aren't as many popular songs as there are non-popular songs (otherwise, there will be much more financial stability in music industry!). However,imbalance in dataset will tamper with the accuracy of our model. One way to counteract this is by upsampling songs with high popularity.  We will then perform K-Nearest Neighbor classification, because they are good at handling noisy data. "
   ]
  },
  {
   "cell_type": "markdown",
   "id": "af4d7b34",
   "metadata": {},
   "source": [
    "#### Up-sampling songs with \"high\" and \"low\" popularity"
   ]
  },
  {
   "cell_type": "code",
   "execution_count": null,
   "id": "8aac5525",
   "metadata": {},
   "outputs": [],
   "source": [
    "df_high= df[df.popularity=='high']\n",
    "df_mid= df[df.popularity=='medium']\n",
    "df_low= df[df.popularity=='low']\n",
    "\n",
    "df_low_upsampled= resample(df_low, replace=True, n_samples= 57662, random_state=42)\n",
    "df_high_upsampled= resample(df_high, replace=True, n_samples=57662, random_state=42)\n",
    "\n",
    "\n",
    "list_df_upsampled=[df_high_upsampled, df_mid, df_low_upsampled]\n",
    "df_upsampled= pd.concat(list_df_upsampled)"
   ]
  },
  {
   "cell_type": "code",
   "execution_count": null,
   "id": "a5b8254b",
   "metadata": {},
   "outputs": [],
   "source": [
    "df_upsampled.popularity.value_counts()"
   ]
  },
  {
   "cell_type": "code",
   "execution_count": null,
   "id": "ab0cdc37",
   "metadata": {},
   "outputs": [],
   "source": [
    "X_up= df_upsampled.drop('popularity', axis=1)\n",
    "y_up= df_upsampled['popularity']"
   ]
  },
  {
   "cell_type": "code",
   "execution_count": null,
   "id": "3f8c2b97",
   "metadata": {},
   "outputs": [],
   "source": [
    "X_train, X_test, y_train, y_test= train_test_split(X_up, y_up, random_state= 42, test_size=0.3)"
   ]
  },
  {
   "cell_type": "markdown",
   "id": "c495f68c",
   "metadata": {},
   "source": [
    "#### Testing Different Classification Models"
   ]
  },
  {
   "cell_type": "markdown",
   "id": "611d5b57",
   "metadata": {},
   "source": [
    "**KNN Classifier** "
   ]
  },
  {
   "cell_type": "code",
   "execution_count": null,
   "id": "5f9e4e84",
   "metadata": {},
   "outputs": [],
   "source": [
    "KNN= KNeighborsClassifier()\n",
    "\n",
    "KNN.fit(X_train, y_train)\n",
    "\n",
    "y_pred_classification= KNN.predict(X_test)\n",
    "print(accuracy_score(y_test, y_pred_classification))"
   ]
  },
  {
   "cell_type": "markdown",
   "id": "c972b8b1",
   "metadata": {},
   "source": [
    "WOW! This is a huge improvement (though it probably is overfitting). Let's try Random Forest Classification."
   ]
  },
  {
   "cell_type": "markdown",
   "id": "d34a6267",
   "metadata": {},
   "source": [
    "**Random Forest Classifier**"
   ]
  },
  {
   "cell_type": "code",
   "execution_count": null,
   "id": "3a268c35",
   "metadata": {},
   "outputs": [],
   "source": [
    "scaler=StandardScaler()\n",
    "RFC= RandomForestClassifier(random_state= 47)\n",
    "\n",
    "RFC.fit(X_train, y_train)\n",
    "y_rfc_pred= RFC.predict(X_test)\n",
    "print(accuracy_score(y_test, y_rfc_pred))"
   ]
  },
  {
   "cell_type": "markdown",
   "id": "dc246484",
   "metadata": {},
   "source": [
    "Clearly, Random Forest Classifier performs best for our case. Let's use this model. Before fully delving into this model though, let's check for feature importance to see which features are more relevant for our task."
   ]
  },
  {
   "cell_type": "markdown",
   "id": "4c54d476",
   "metadata": {},
   "source": [
    "**Feature Importances**"
   ]
  },
  {
   "cell_type": "code",
   "execution_count": null,
   "id": "4f94eea4",
   "metadata": {
    "scrolled": true
   },
   "outputs": [],
   "source": [
    "importances= pd.Series(data= RFC.feature_importances_, index=X_train.columns)\n",
    "importances_sorted= importances.sort_values()\n",
    "\n",
    "importances_sorted.plot(kind='barh', color='blue')\n",
    "plt.title('Feature Importances')\n",
    "plt.show()"
   ]
  },
  {
   "cell_type": "markdown",
   "id": "1227d920",
   "metadata": {},
   "source": [
    "We see that loudness plays and duration plays the biggest role in predicting popularity. We then see that energy, valence, speechiness, acousticness, danceability, tempo, and liveness, in that order, influence our predictions."
   ]
  },
  {
   "cell_type": "markdown",
   "id": "8c57c2ef",
   "metadata": {},
   "source": [
    "#### Random Forest Classification- Bayesian Optimization"
   ]
  },
  {
   "cell_type": "code",
   "execution_count": null,
   "id": "ede72adc",
   "metadata": {},
   "outputs": [],
   "source": [
    "def fit_model(n_estimators,min_samples_split,max_depth, max_features):\n",
    "    scaler= StandardScaler()\n",
    "    RFC= RandomForestClassifier(random_state= 42) \n",
    "\n",
    "    params = {\n",
    "        \"n_estimators\":round(n_estimators), \n",
    "        \"min_samples_split\":round(min_samples_split), \n",
    "        \"max_depth\": round(max_depth),\n",
    "        \"max_features\":round(max_features), \n",
    "        \"bootstrap\": True\n",
    "    }\n",
    "    cv_results= cross_validate(RFC, X_train, y_train, cv=5, scoring='accuracy')\n",
    "\n",
    "    return np.mean(cross_validate(RFC, X_train, y_train, scoring='accuracy', cv=5)['test_score'])"
   ]
  },
  {
   "cell_type": "code",
   "execution_count": null,
   "id": "244effcf",
   "metadata": {
    "scrolled": true
   },
   "outputs": [],
   "source": [
    "rf_BO = BayesianOptimization(fit_model,{\n",
    "        \"n_estimators\":(300, 2000), \n",
    "        \"min_samples_split\":(20,100), \n",
    "        \"max_depth\":(3,7), \n",
    "        \"max_features\":(5,13), \n",
    "    })\n",
    "\n",
    "rf_BO.maximize(n_iter=10, init_points=2)"
   ]
  },
  {
   "cell_type": "code",
   "execution_count": null,
   "id": "53be2f0f",
   "metadata": {},
   "outputs": [],
   "source": [
    "rf_BO.max"
   ]
  },
  {
   "cell_type": "markdown",
   "id": "6a0f6c27",
   "metadata": {},
   "source": [
    "Through hyperparameter tuning, we learned that the model can expect target score of 0.86. This score is reasonable, as the model is expected to perform better on training set. However, our current target score is still great. Let's use confusion matrix to further evaluate our model."
   ]
  },
  {
   "cell_type": "markdown",
   "id": "9ab44afb",
   "metadata": {},
   "source": [
    "### Confusion Matrix"
   ]
  },
  {
   "cell_type": "code",
   "execution_count": null,
   "id": "44238bde",
   "metadata": {},
   "outputs": [],
   "source": [
    "cmat = confusion_matrix(y_test, y_rfc_pred)\n",
    "#print(cmat)\n",
    "print('TP - True Negative {}'.format(cmat[0,0]))\n",
    "print('FP - Flase Positive {}'.format(cmat[0,1]))\n",
    "print('FN - False Negative {}'.format(cmat[1,0]))\n",
    "print('TP - True Positive {}'.format(cmat[1,1]))\n",
    "print('Accuracy Score: {}'.format(np.divide(np.sum([cmat[0,0], cmat[1,1], cmat[2,2]]), np.sum(cmat)))) \n",
    "print('Misclassification Rate: {}'.format(np.divide(np.sum([cmat[1,0], cmat[0,1], cmat[0,2], cmat[2,0], cmat[1,2], cmat[2,1]]), np.sum(cmat))))"
   ]
  },
  {
   "cell_type": "markdown",
   "id": "295e7b2b",
   "metadata": {},
   "source": [
    "An accuracy score of 89% is great! We came a long way from our linear regression model. "
   ]
  }
 ],
 "metadata": {
  "kernelspec": {
   "display_name": "Python 3 (ipykernel)",
   "language": "python",
   "name": "python3"
  },
  "language_info": {
   "codemirror_mode": {
    "name": "ipython",
    "version": 3
   },
   "file_extension": ".py",
   "mimetype": "text/x-python",
   "name": "python",
   "nbconvert_exporter": "python",
   "pygments_lexer": "ipython3",
   "version": "3.9.12"
  }
 },
 "nbformat": 4,
 "nbformat_minor": 5
}
